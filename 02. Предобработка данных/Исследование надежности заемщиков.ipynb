{
 "cells": [
  {
   "cell_type": "markdown",
   "id": "386f2ae7",
   "metadata": {
    "deletable": false,
    "editable": false,
    "id": "386f2ae7"
   },
   "source": [
    "# Исследование надежности заемщиков\n"
   ]
  },
  {
   "cell_type": "markdown",
   "id": "ffe86f65",
   "metadata": {
    "deletable": false,
    "editable": false,
    "id": "ffe86f65"
   },
   "source": [
    "Во второй части проекта вы выполните шаги 3 и 4. Их вручную проверит ревьюер.\n",
    "Чтобы вам не пришлось писать код заново для шагов 1 и 2, мы добавили авторские решения в ячейки с кодом. \n",
    "\n"
   ]
  },
  {
   "cell_type": "markdown",
   "id": "26613308",
   "metadata": {
    "deletable": false,
    "editable": false,
    "id": "26613308"
   },
   "source": [
    "## Откройте таблицу и изучите общую информацию о данных"
   ]
  },
  {
   "cell_type": "markdown",
   "id": "3c9f838e",
   "metadata": {
    "deletable": false,
    "editable": false,
    "id": "3c9f838e"
   },
   "source": [
    "**Задание 1. Импортируйте библиотеку pandas. Считайте данные из csv-файла в датафрейм и сохраните в переменную `data`. Путь к файлу:**\n",
    "\n",
    "`/datasets/data.csv`"
   ]
  },
  {
   "cell_type": "code",
   "execution_count": 1,
   "id": "77a68a90",
   "metadata": {
    "deletable": false,
    "id": "77a68a90"
   },
   "outputs": [],
   "source": [
    "import pandas as pd\n",
    "\n",
    "try:\n",
    "    data = pd.read_csv('/datasets/data.csv')\n",
    "except:\n",
    "    data = pd.read_csv('https://code.s3.yandex.net/datasets/data.csv')"
   ]
  },
  {
   "cell_type": "markdown",
   "id": "45365635",
   "metadata": {
    "deletable": false,
    "editable": false,
    "id": "45365635"
   },
   "source": [
    "**Задание 2. Выведите первые 20 строчек датафрейма `data` на экран.**"
   ]
  },
  {
   "cell_type": "code",
   "execution_count": 2,
   "id": "b0451a9a",
   "metadata": {
    "deletable": false,
    "id": "b0451a9a",
    "outputId": "1a8f3ef2-d323-4ec2-ddf7-89670b5944c4"
   },
   "outputs": [
    {
     "data": {
      "text/html": [
       "<div>\n",
       "<style scoped>\n",
       "    .dataframe tbody tr th:only-of-type {\n",
       "        vertical-align: middle;\n",
       "    }\n",
       "\n",
       "    .dataframe tbody tr th {\n",
       "        vertical-align: top;\n",
       "    }\n",
       "\n",
       "    .dataframe thead th {\n",
       "        text-align: right;\n",
       "    }\n",
       "</style>\n",
       "<table border=\"1\" class=\"dataframe\">\n",
       "  <thead>\n",
       "    <tr style=\"text-align: right;\">\n",
       "      <th></th>\n",
       "      <th>children</th>\n",
       "      <th>days_employed</th>\n",
       "      <th>dob_years</th>\n",
       "      <th>education</th>\n",
       "      <th>education_id</th>\n",
       "      <th>family_status</th>\n",
       "      <th>family_status_id</th>\n",
       "      <th>gender</th>\n",
       "      <th>income_type</th>\n",
       "      <th>debt</th>\n",
       "      <th>total_income</th>\n",
       "      <th>purpose</th>\n",
       "    </tr>\n",
       "  </thead>\n",
       "  <tbody>\n",
       "    <tr>\n",
       "      <th>0</th>\n",
       "      <td>1</td>\n",
       "      <td>-8437.673028</td>\n",
       "      <td>42</td>\n",
       "      <td>высшее</td>\n",
       "      <td>0</td>\n",
       "      <td>женат / замужем</td>\n",
       "      <td>0</td>\n",
       "      <td>F</td>\n",
       "      <td>сотрудник</td>\n",
       "      <td>0</td>\n",
       "      <td>253875.639453</td>\n",
       "      <td>покупка жилья</td>\n",
       "    </tr>\n",
       "    <tr>\n",
       "      <th>1</th>\n",
       "      <td>1</td>\n",
       "      <td>-4024.803754</td>\n",
       "      <td>36</td>\n",
       "      <td>среднее</td>\n",
       "      <td>1</td>\n",
       "      <td>женат / замужем</td>\n",
       "      <td>0</td>\n",
       "      <td>F</td>\n",
       "      <td>сотрудник</td>\n",
       "      <td>0</td>\n",
       "      <td>112080.014102</td>\n",
       "      <td>приобретение автомобиля</td>\n",
       "    </tr>\n",
       "    <tr>\n",
       "      <th>2</th>\n",
       "      <td>0</td>\n",
       "      <td>-5623.422610</td>\n",
       "      <td>33</td>\n",
       "      <td>Среднее</td>\n",
       "      <td>1</td>\n",
       "      <td>женат / замужем</td>\n",
       "      <td>0</td>\n",
       "      <td>M</td>\n",
       "      <td>сотрудник</td>\n",
       "      <td>0</td>\n",
       "      <td>145885.952297</td>\n",
       "      <td>покупка жилья</td>\n",
       "    </tr>\n",
       "    <tr>\n",
       "      <th>3</th>\n",
       "      <td>3</td>\n",
       "      <td>-4124.747207</td>\n",
       "      <td>32</td>\n",
       "      <td>среднее</td>\n",
       "      <td>1</td>\n",
       "      <td>женат / замужем</td>\n",
       "      <td>0</td>\n",
       "      <td>M</td>\n",
       "      <td>сотрудник</td>\n",
       "      <td>0</td>\n",
       "      <td>267628.550329</td>\n",
       "      <td>дополнительное образование</td>\n",
       "    </tr>\n",
       "    <tr>\n",
       "      <th>4</th>\n",
       "      <td>0</td>\n",
       "      <td>340266.072047</td>\n",
       "      <td>53</td>\n",
       "      <td>среднее</td>\n",
       "      <td>1</td>\n",
       "      <td>гражданский брак</td>\n",
       "      <td>1</td>\n",
       "      <td>F</td>\n",
       "      <td>пенсионер</td>\n",
       "      <td>0</td>\n",
       "      <td>158616.077870</td>\n",
       "      <td>сыграть свадьбу</td>\n",
       "    </tr>\n",
       "    <tr>\n",
       "      <th>5</th>\n",
       "      <td>0</td>\n",
       "      <td>-926.185831</td>\n",
       "      <td>27</td>\n",
       "      <td>высшее</td>\n",
       "      <td>0</td>\n",
       "      <td>гражданский брак</td>\n",
       "      <td>1</td>\n",
       "      <td>M</td>\n",
       "      <td>компаньон</td>\n",
       "      <td>0</td>\n",
       "      <td>255763.565419</td>\n",
       "      <td>покупка жилья</td>\n",
       "    </tr>\n",
       "    <tr>\n",
       "      <th>6</th>\n",
       "      <td>0</td>\n",
       "      <td>-2879.202052</td>\n",
       "      <td>43</td>\n",
       "      <td>высшее</td>\n",
       "      <td>0</td>\n",
       "      <td>женат / замужем</td>\n",
       "      <td>0</td>\n",
       "      <td>F</td>\n",
       "      <td>компаньон</td>\n",
       "      <td>0</td>\n",
       "      <td>240525.971920</td>\n",
       "      <td>операции с жильем</td>\n",
       "    </tr>\n",
       "    <tr>\n",
       "      <th>7</th>\n",
       "      <td>0</td>\n",
       "      <td>-152.779569</td>\n",
       "      <td>50</td>\n",
       "      <td>СРЕДНЕЕ</td>\n",
       "      <td>1</td>\n",
       "      <td>женат / замужем</td>\n",
       "      <td>0</td>\n",
       "      <td>M</td>\n",
       "      <td>сотрудник</td>\n",
       "      <td>0</td>\n",
       "      <td>135823.934197</td>\n",
       "      <td>образование</td>\n",
       "    </tr>\n",
       "    <tr>\n",
       "      <th>8</th>\n",
       "      <td>2</td>\n",
       "      <td>-6929.865299</td>\n",
       "      <td>35</td>\n",
       "      <td>ВЫСШЕЕ</td>\n",
       "      <td>0</td>\n",
       "      <td>гражданский брак</td>\n",
       "      <td>1</td>\n",
       "      <td>F</td>\n",
       "      <td>сотрудник</td>\n",
       "      <td>0</td>\n",
       "      <td>95856.832424</td>\n",
       "      <td>на проведение свадьбы</td>\n",
       "    </tr>\n",
       "    <tr>\n",
       "      <th>9</th>\n",
       "      <td>0</td>\n",
       "      <td>-2188.756445</td>\n",
       "      <td>41</td>\n",
       "      <td>среднее</td>\n",
       "      <td>1</td>\n",
       "      <td>женат / замужем</td>\n",
       "      <td>0</td>\n",
       "      <td>M</td>\n",
       "      <td>сотрудник</td>\n",
       "      <td>0</td>\n",
       "      <td>144425.938277</td>\n",
       "      <td>покупка жилья для семьи</td>\n",
       "    </tr>\n",
       "    <tr>\n",
       "      <th>10</th>\n",
       "      <td>2</td>\n",
       "      <td>-4171.483647</td>\n",
       "      <td>36</td>\n",
       "      <td>высшее</td>\n",
       "      <td>0</td>\n",
       "      <td>женат / замужем</td>\n",
       "      <td>0</td>\n",
       "      <td>M</td>\n",
       "      <td>компаньон</td>\n",
       "      <td>0</td>\n",
       "      <td>113943.491460</td>\n",
       "      <td>покупка недвижимости</td>\n",
       "    </tr>\n",
       "    <tr>\n",
       "      <th>11</th>\n",
       "      <td>0</td>\n",
       "      <td>-792.701887</td>\n",
       "      <td>40</td>\n",
       "      <td>среднее</td>\n",
       "      <td>1</td>\n",
       "      <td>женат / замужем</td>\n",
       "      <td>0</td>\n",
       "      <td>F</td>\n",
       "      <td>сотрудник</td>\n",
       "      <td>0</td>\n",
       "      <td>77069.234271</td>\n",
       "      <td>покупка коммерческой недвижимости</td>\n",
       "    </tr>\n",
       "    <tr>\n",
       "      <th>12</th>\n",
       "      <td>0</td>\n",
       "      <td>NaN</td>\n",
       "      <td>65</td>\n",
       "      <td>среднее</td>\n",
       "      <td>1</td>\n",
       "      <td>гражданский брак</td>\n",
       "      <td>1</td>\n",
       "      <td>M</td>\n",
       "      <td>пенсионер</td>\n",
       "      <td>0</td>\n",
       "      <td>NaN</td>\n",
       "      <td>сыграть свадьбу</td>\n",
       "    </tr>\n",
       "    <tr>\n",
       "      <th>13</th>\n",
       "      <td>0</td>\n",
       "      <td>-1846.641941</td>\n",
       "      <td>54</td>\n",
       "      <td>неоконченное высшее</td>\n",
       "      <td>2</td>\n",
       "      <td>женат / замужем</td>\n",
       "      <td>0</td>\n",
       "      <td>F</td>\n",
       "      <td>сотрудник</td>\n",
       "      <td>0</td>\n",
       "      <td>130458.228857</td>\n",
       "      <td>приобретение автомобиля</td>\n",
       "    </tr>\n",
       "    <tr>\n",
       "      <th>14</th>\n",
       "      <td>0</td>\n",
       "      <td>-1844.956182</td>\n",
       "      <td>56</td>\n",
       "      <td>высшее</td>\n",
       "      <td>0</td>\n",
       "      <td>гражданский брак</td>\n",
       "      <td>1</td>\n",
       "      <td>F</td>\n",
       "      <td>компаньон</td>\n",
       "      <td>1</td>\n",
       "      <td>165127.911772</td>\n",
       "      <td>покупка жилой недвижимости</td>\n",
       "    </tr>\n",
       "    <tr>\n",
       "      <th>15</th>\n",
       "      <td>1</td>\n",
       "      <td>-972.364419</td>\n",
       "      <td>26</td>\n",
       "      <td>среднее</td>\n",
       "      <td>1</td>\n",
       "      <td>женат / замужем</td>\n",
       "      <td>0</td>\n",
       "      <td>F</td>\n",
       "      <td>сотрудник</td>\n",
       "      <td>0</td>\n",
       "      <td>116820.904450</td>\n",
       "      <td>строительство собственной недвижимости</td>\n",
       "    </tr>\n",
       "    <tr>\n",
       "      <th>16</th>\n",
       "      <td>0</td>\n",
       "      <td>-1719.934226</td>\n",
       "      <td>35</td>\n",
       "      <td>среднее</td>\n",
       "      <td>1</td>\n",
       "      <td>женат / замужем</td>\n",
       "      <td>0</td>\n",
       "      <td>F</td>\n",
       "      <td>сотрудник</td>\n",
       "      <td>0</td>\n",
       "      <td>289202.704229</td>\n",
       "      <td>недвижимость</td>\n",
       "    </tr>\n",
       "    <tr>\n",
       "      <th>17</th>\n",
       "      <td>0</td>\n",
       "      <td>-2369.999720</td>\n",
       "      <td>33</td>\n",
       "      <td>высшее</td>\n",
       "      <td>0</td>\n",
       "      <td>гражданский брак</td>\n",
       "      <td>1</td>\n",
       "      <td>M</td>\n",
       "      <td>сотрудник</td>\n",
       "      <td>0</td>\n",
       "      <td>90410.586745</td>\n",
       "      <td>строительство недвижимости</td>\n",
       "    </tr>\n",
       "    <tr>\n",
       "      <th>18</th>\n",
       "      <td>0</td>\n",
       "      <td>400281.136913</td>\n",
       "      <td>53</td>\n",
       "      <td>среднее</td>\n",
       "      <td>1</td>\n",
       "      <td>вдовец / вдова</td>\n",
       "      <td>2</td>\n",
       "      <td>F</td>\n",
       "      <td>пенсионер</td>\n",
       "      <td>0</td>\n",
       "      <td>56823.777243</td>\n",
       "      <td>на покупку подержанного автомобиля</td>\n",
       "    </tr>\n",
       "    <tr>\n",
       "      <th>19</th>\n",
       "      <td>0</td>\n",
       "      <td>-10038.818549</td>\n",
       "      <td>48</td>\n",
       "      <td>СРЕДНЕЕ</td>\n",
       "      <td>1</td>\n",
       "      <td>в разводе</td>\n",
       "      <td>3</td>\n",
       "      <td>F</td>\n",
       "      <td>сотрудник</td>\n",
       "      <td>0</td>\n",
       "      <td>242831.107982</td>\n",
       "      <td>на покупку своего автомобиля</td>\n",
       "    </tr>\n",
       "  </tbody>\n",
       "</table>\n",
       "</div>"
      ],
      "text/plain": [
       "    children  days_employed  dob_years            education  education_id  \\\n",
       "0          1   -8437.673028         42               высшее             0   \n",
       "1          1   -4024.803754         36              среднее             1   \n",
       "2          0   -5623.422610         33              Среднее             1   \n",
       "3          3   -4124.747207         32              среднее             1   \n",
       "4          0  340266.072047         53              среднее             1   \n",
       "5          0    -926.185831         27               высшее             0   \n",
       "6          0   -2879.202052         43               высшее             0   \n",
       "7          0    -152.779569         50              СРЕДНЕЕ             1   \n",
       "8          2   -6929.865299         35               ВЫСШЕЕ             0   \n",
       "9          0   -2188.756445         41              среднее             1   \n",
       "10         2   -4171.483647         36               высшее             0   \n",
       "11         0    -792.701887         40              среднее             1   \n",
       "12         0            NaN         65              среднее             1   \n",
       "13         0   -1846.641941         54  неоконченное высшее             2   \n",
       "14         0   -1844.956182         56               высшее             0   \n",
       "15         1    -972.364419         26              среднее             1   \n",
       "16         0   -1719.934226         35              среднее             1   \n",
       "17         0   -2369.999720         33               высшее             0   \n",
       "18         0  400281.136913         53              среднее             1   \n",
       "19         0  -10038.818549         48              СРЕДНЕЕ             1   \n",
       "\n",
       "       family_status  family_status_id gender income_type  debt  \\\n",
       "0    женат / замужем                 0      F   сотрудник     0   \n",
       "1    женат / замужем                 0      F   сотрудник     0   \n",
       "2    женат / замужем                 0      M   сотрудник     0   \n",
       "3    женат / замужем                 0      M   сотрудник     0   \n",
       "4   гражданский брак                 1      F   пенсионер     0   \n",
       "5   гражданский брак                 1      M   компаньон     0   \n",
       "6    женат / замужем                 0      F   компаньон     0   \n",
       "7    женат / замужем                 0      M   сотрудник     0   \n",
       "8   гражданский брак                 1      F   сотрудник     0   \n",
       "9    женат / замужем                 0      M   сотрудник     0   \n",
       "10   женат / замужем                 0      M   компаньон     0   \n",
       "11   женат / замужем                 0      F   сотрудник     0   \n",
       "12  гражданский брак                 1      M   пенсионер     0   \n",
       "13   женат / замужем                 0      F   сотрудник     0   \n",
       "14  гражданский брак                 1      F   компаньон     1   \n",
       "15   женат / замужем                 0      F   сотрудник     0   \n",
       "16   женат / замужем                 0      F   сотрудник     0   \n",
       "17  гражданский брак                 1      M   сотрудник     0   \n",
       "18    вдовец / вдова                 2      F   пенсионер     0   \n",
       "19         в разводе                 3      F   сотрудник     0   \n",
       "\n",
       "     total_income                                 purpose  \n",
       "0   253875.639453                           покупка жилья  \n",
       "1   112080.014102                 приобретение автомобиля  \n",
       "2   145885.952297                           покупка жилья  \n",
       "3   267628.550329              дополнительное образование  \n",
       "4   158616.077870                         сыграть свадьбу  \n",
       "5   255763.565419                           покупка жилья  \n",
       "6   240525.971920                       операции с жильем  \n",
       "7   135823.934197                             образование  \n",
       "8    95856.832424                   на проведение свадьбы  \n",
       "9   144425.938277                 покупка жилья для семьи  \n",
       "10  113943.491460                    покупка недвижимости  \n",
       "11   77069.234271       покупка коммерческой недвижимости  \n",
       "12            NaN                         сыграть свадьбу  \n",
       "13  130458.228857                 приобретение автомобиля  \n",
       "14  165127.911772              покупка жилой недвижимости  \n",
       "15  116820.904450  строительство собственной недвижимости  \n",
       "16  289202.704229                            недвижимость  \n",
       "17   90410.586745              строительство недвижимости  \n",
       "18   56823.777243      на покупку подержанного автомобиля  \n",
       "19  242831.107982            на покупку своего автомобиля  "
      ]
     },
     "execution_count": 2,
     "metadata": {},
     "output_type": "execute_result"
    }
   ],
   "source": [
    "data.head(20)"
   ]
  },
  {
   "cell_type": "markdown",
   "id": "0ed8f27f",
   "metadata": {
    "deletable": false,
    "editable": false,
    "id": "0ed8f27f"
   },
   "source": [
    "**Задание 3. Выведите основную информацию о датафрейме с помощью метода `info()`.**"
   ]
  },
  {
   "cell_type": "code",
   "execution_count": 3,
   "id": "ab3f863b",
   "metadata": {
    "deletable": false,
    "id": "ab3f863b",
    "outputId": "15376089-8dad-46c9-b520-c05248d43158"
   },
   "outputs": [
    {
     "name": "stdout",
     "output_type": "stream",
     "text": [
      "<class 'pandas.core.frame.DataFrame'>\n",
      "RangeIndex: 21525 entries, 0 to 21524\n",
      "Data columns (total 12 columns):\n",
      " #   Column            Non-Null Count  Dtype  \n",
      "---  ------            --------------  -----  \n",
      " 0   children          21525 non-null  int64  \n",
      " 1   days_employed     19351 non-null  float64\n",
      " 2   dob_years         21525 non-null  int64  \n",
      " 3   education         21525 non-null  object \n",
      " 4   education_id      21525 non-null  int64  \n",
      " 5   family_status     21525 non-null  object \n",
      " 6   family_status_id  21525 non-null  int64  \n",
      " 7   gender            21525 non-null  object \n",
      " 8   income_type       21525 non-null  object \n",
      " 9   debt              21525 non-null  int64  \n",
      " 10  total_income      19351 non-null  float64\n",
      " 11  purpose           21525 non-null  object \n",
      "dtypes: float64(2), int64(5), object(5)\n",
      "memory usage: 2.0+ MB\n"
     ]
    }
   ],
   "source": [
    "data.info()"
   ]
  },
  {
   "cell_type": "markdown",
   "id": "60e3e22d",
   "metadata": {
    "deletable": false,
    "editable": false,
    "id": "60e3e22d"
   },
   "source": [
    "## Предобработка данных"
   ]
  },
  {
   "cell_type": "markdown",
   "id": "03dc170c",
   "metadata": {
    "deletable": false,
    "editable": false,
    "id": "03dc170c"
   },
   "source": [
    "### Удаление пропусков"
   ]
  },
  {
   "cell_type": "markdown",
   "id": "a4f54eef",
   "metadata": {
    "deletable": false,
    "editable": false,
    "id": "a4f54eef"
   },
   "source": [
    "**Задание 4. Выведите количество пропущенных значений для каждого столбца. Используйте комбинацию двух методов.**"
   ]
  },
  {
   "cell_type": "code",
   "execution_count": 4,
   "id": "2dc372b2",
   "metadata": {
    "deletable": false,
    "id": "2dc372b2",
    "outputId": "81f4d817-781c-465c-ed15-91ce4446810d"
   },
   "outputs": [
    {
     "data": {
      "text/plain": [
       "children               0\n",
       "days_employed       2174\n",
       "dob_years              0\n",
       "education              0\n",
       "education_id           0\n",
       "family_status          0\n",
       "family_status_id       0\n",
       "gender                 0\n",
       "income_type            0\n",
       "debt                   0\n",
       "total_income        2174\n",
       "purpose                0\n",
       "dtype: int64"
      ]
     },
     "execution_count": 4,
     "metadata": {},
     "output_type": "execute_result"
    }
   ],
   "source": [
    "data.isna().sum()"
   ]
  },
  {
   "cell_type": "markdown",
   "id": "14f011b1",
   "metadata": {
    "deletable": false,
    "editable": false,
    "id": "14f011b1"
   },
   "source": [
    "**Задание 5. В двух столбцах есть пропущенные значения. Один из них — `days_employed`. Пропуски в этом столбце вы обработаете на следующем этапе. Другой столбец с пропущенными значениями — `total_income` — хранит данные о доходах. На сумму дохода сильнее всего влияет тип занятости, поэтому заполнить пропуски в этом столбце нужно медианным значением по каждому типу из столбца `income_type`. Например, у человека с типом занятости `сотрудник` пропуск в столбце `total_income` должен быть заполнен медианным доходом среди всех записей с тем же типом.**"
   ]
  },
  {
   "cell_type": "code",
   "execution_count": 5,
   "id": "bdabfb6e",
   "metadata": {
    "deletable": false,
    "id": "bdabfb6e"
   },
   "outputs": [],
   "source": [
    "for t in data['income_type'].unique():\n",
    "    data.loc[(data['income_type'] == t) & (data['total_income'].isna()), 'total_income'] = \\\n",
    "    data.loc[(data['income_type'] == t), 'total_income'].median()"
   ]
  },
  {
   "cell_type": "markdown",
   "id": "5be34059",
   "metadata": {
    "deletable": false,
    "editable": false,
    "id": "5be34059"
   },
   "source": [
    "### Обработка аномальных значений"
   ]
  },
  {
   "cell_type": "markdown",
   "id": "a87606cb",
   "metadata": {
    "deletable": false,
    "editable": false,
    "id": "a87606cb"
   },
   "source": [
    "**Задание 6. В данных могут встречаться артефакты (аномалии) — значения, которые не отражают действительность и появились по какой-то ошибке. таким артефактом будет отрицательное количество дней трудового стажа в столбце `days_employed`. Для реальных данных это нормально. Обработайте значения в этом столбце: замените все отрицательные значения положительными с помощью метода `abs()`.**"
   ]
  },
  {
   "cell_type": "code",
   "execution_count": 6,
   "id": "020c46cc",
   "metadata": {
    "deletable": false,
    "id": "020c46cc"
   },
   "outputs": [],
   "source": [
    "data['days_employed'] = data['days_employed'].abs()"
   ]
  },
  {
   "cell_type": "markdown",
   "id": "45538a3a",
   "metadata": {
    "deletable": false,
    "editable": false,
    "id": "45538a3a"
   },
   "source": [
    "**Задание 7. Для каждого типа занятости выведите медианное значение трудового стажа `days_employed` в днях.**"
   ]
  },
  {
   "cell_type": "code",
   "execution_count": 7,
   "id": "cd3e6328",
   "metadata": {
    "deletable": false,
    "id": "cd3e6328",
    "outputId": "801ef80e-522b-4668-f34e-565af7432bcf"
   },
   "outputs": [
    {
     "data": {
      "text/plain": [
       "income_type\n",
       "безработный        366413.652744\n",
       "в декрете            3296.759962\n",
       "госслужащий          2689.368353\n",
       "компаньон            1547.382223\n",
       "пенсионер          365213.306266\n",
       "предприниматель       520.848083\n",
       "сотрудник            1574.202821\n",
       "студент               578.751554\n",
       "Name: days_employed, dtype: float64"
      ]
     },
     "execution_count": 7,
     "metadata": {},
     "output_type": "execute_result"
    }
   ],
   "source": [
    "data.groupby('income_type')['days_employed'].agg('median')"
   ]
  },
  {
   "cell_type": "markdown",
   "id": "90c5f058",
   "metadata": {
    "deletable": false,
    "editable": false,
    "id": "90c5f058"
   },
   "source": [
    "У двух типов (безработные и пенсионеры) получатся аномально большие значения. Исправить такие значения сложно, поэтому оставьте их как есть."
   ]
  },
  {
   "cell_type": "markdown",
   "id": "9652e50d",
   "metadata": {
    "deletable": false,
    "editable": false,
    "id": "9652e50d"
   },
   "source": [
    "**Задание 8. Выведите перечень уникальных значений столбца `children`.**"
   ]
  },
  {
   "cell_type": "code",
   "execution_count": 8,
   "id": "dbb37b8e",
   "metadata": {
    "deletable": false,
    "id": "dbb37b8e",
    "outputId": "6975b15c-7f95-4697-d16d-a0c79b657b03"
   },
   "outputs": [
    {
     "data": {
      "text/plain": [
       "array([ 1,  0,  3,  2, -1,  4, 20,  5])"
      ]
     },
     "execution_count": 8,
     "metadata": {},
     "output_type": "execute_result"
    }
   ],
   "source": [
    "data['children'].unique()"
   ]
  },
  {
   "cell_type": "markdown",
   "id": "2b8b0715",
   "metadata": {
    "deletable": false,
    "editable": false,
    "id": "2b8b0715"
   },
   "source": [
    "**Задание 9. В столбце `children` есть два аномальных значения. Удалите строки, в которых встречаются такие аномальные значения из датафрейма `data`.**"
   ]
  },
  {
   "cell_type": "code",
   "execution_count": 9,
   "id": "20009df8",
   "metadata": {
    "deletable": false,
    "id": "20009df8"
   },
   "outputs": [],
   "source": [
    "data = data[(data['children'] != -1) & (data['children'] != 20)]"
   ]
  },
  {
   "cell_type": "markdown",
   "id": "8c6ac9f1",
   "metadata": {
    "deletable": false,
    "editable": false,
    "id": "8c6ac9f1"
   },
   "source": [
    "**Задание 10. Ещё раз выведите перечень уникальных значений столбца `children`, чтобы убедиться, что артефакты удалены.**"
   ]
  },
  {
   "cell_type": "code",
   "execution_count": 10,
   "id": "07337b81",
   "metadata": {
    "deletable": false,
    "id": "07337b81",
    "outputId": "b2097101-d49d-44d9-901b-32a65c9463d1"
   },
   "outputs": [
    {
     "data": {
      "text/plain": [
       "array([1, 0, 3, 2, 4, 5])"
      ]
     },
     "execution_count": 10,
     "metadata": {},
     "output_type": "execute_result"
    }
   ],
   "source": [
    "data['children'].unique()"
   ]
  },
  {
   "cell_type": "markdown",
   "id": "ee3f52d4",
   "metadata": {
    "deletable": false,
    "editable": false,
    "id": "ee3f52d4"
   },
   "source": [
    "### Удаление пропусков (продолжение)"
   ]
  },
  {
   "cell_type": "markdown",
   "id": "a700b0e4",
   "metadata": {
    "deletable": false,
    "editable": false,
    "id": "a700b0e4"
   },
   "source": [
    "**Задание 11. Заполните пропуски в столбце `days_employed` медианными значениями по каждого типа занятости `income_type`.**"
   ]
  },
  {
   "cell_type": "code",
   "execution_count": 11,
   "id": "61946b83",
   "metadata": {
    "deletable": false,
    "id": "61946b83"
   },
   "outputs": [],
   "source": [
    "for t in data['income_type'].unique():\n",
    "    data.loc[(data['income_type'] == t) & (data['days_employed'].isna()), 'days_employed'] = \\\n",
    "    data.loc[(data['income_type'] == t), 'days_employed'].median()"
   ]
  },
  {
   "cell_type": "markdown",
   "id": "550dcd9b",
   "metadata": {
    "deletable": false,
    "editable": false,
    "id": "550dcd9b"
   },
   "source": [
    "**Задание 12. Убедитесь, что все пропуски заполнены. Проверьте себя и ещё раз выведите количество пропущенных значений для каждого столбца с помощью двух методов.**"
   ]
  },
  {
   "cell_type": "code",
   "execution_count": 12,
   "id": "937c7014",
   "metadata": {
    "deletable": false,
    "id": "937c7014",
    "outputId": "8da1e4e1-358e-4e87-98c9-f261bce0a7b2"
   },
   "outputs": [
    {
     "data": {
      "text/plain": [
       "children            0\n",
       "days_employed       0\n",
       "dob_years           0\n",
       "education           0\n",
       "education_id        0\n",
       "family_status       0\n",
       "family_status_id    0\n",
       "gender              0\n",
       "income_type         0\n",
       "debt                0\n",
       "total_income        0\n",
       "purpose             0\n",
       "dtype: int64"
      ]
     },
     "execution_count": 12,
     "metadata": {},
     "output_type": "execute_result"
    }
   ],
   "source": [
    "data.isna().sum()"
   ]
  },
  {
   "cell_type": "markdown",
   "id": "d522e295",
   "metadata": {
    "deletable": false,
    "editable": false,
    "id": "d522e295"
   },
   "source": [
    "### Изменение типов данных"
   ]
  },
  {
   "cell_type": "markdown",
   "id": "c229c581",
   "metadata": {
    "deletable": false,
    "editable": false,
    "id": "c229c581"
   },
   "source": [
    "**Задание 13. Замените вещественный тип данных в столбце `total_income` на целочисленный с помощью метода `astype()`.**"
   ]
  },
  {
   "cell_type": "code",
   "execution_count": 13,
   "id": "31036462",
   "metadata": {
    "deletable": false,
    "id": "31036462"
   },
   "outputs": [],
   "source": [
    "data['total_income'] = data['total_income'].astype(int)"
   ]
  },
  {
   "cell_type": "markdown",
   "id": "b8e3d1d9",
   "metadata": {
    "deletable": false,
    "editable": false,
    "id": "b8e3d1d9"
   },
   "source": [
    "### Обработка дубликатов"
   ]
  },
  {
   "cell_type": "markdown",
   "id": "9be53c49",
   "metadata": {
    "deletable": false,
    "editable": false,
    "id": "9be53c49"
   },
   "source": [
    "**Задание 14. Обработайте неявные дубликаты в столбце `education`. В этом столбце есть одни и те же значения, но записанные по-разному: с использованием заглавных и строчных букв. Приведите их к нижнему регистру.**"
   ]
  },
  {
   "cell_type": "code",
   "execution_count": 14,
   "id": "d89e73e1",
   "metadata": {
    "deletable": false,
    "id": "d89e73e1"
   },
   "outputs": [],
   "source": [
    "data['education'] = data['education'].str.lower()"
   ]
  },
  {
   "cell_type": "markdown",
   "id": "01d4500e",
   "metadata": {
    "deletable": false,
    "editable": false,
    "id": "01d4500e"
   },
   "source": [
    "**Задание 15. Выведите на экран количество строк-дубликатов в данных. Если такие строки присутствуют, удалите их.**"
   ]
  },
  {
   "cell_type": "code",
   "execution_count": 15,
   "id": "e10efb23",
   "metadata": {
    "deletable": false,
    "id": "e10efb23",
    "outputId": "9684deba-1934-42d1-99e1-cda61740f822"
   },
   "outputs": [
    {
     "data": {
      "text/plain": [
       "71"
      ]
     },
     "execution_count": 15,
     "metadata": {},
     "output_type": "execute_result"
    }
   ],
   "source": [
    "data.duplicated().sum()"
   ]
  },
  {
   "cell_type": "code",
   "execution_count": 16,
   "id": "df853f20",
   "metadata": {
    "deletable": false,
    "id": "df853f20"
   },
   "outputs": [],
   "source": [
    "data = data.drop_duplicates()"
   ]
  },
  {
   "cell_type": "markdown",
   "id": "627be38f",
   "metadata": {
    "deletable": false,
    "editable": false,
    "id": "627be38f"
   },
   "source": [
    "### Категоризация данных"
   ]
  },
  {
   "cell_type": "markdown",
   "id": "4684c3e0",
   "metadata": {
    "deletable": false,
    "editable": false,
    "id": "4684c3e0"
   },
   "source": [
    "**Задание 16. На основании диапазонов, указанных ниже, создайте в датафрейме `data` столбец `total_income_category` с категориями:**\n",
    "\n",
    "- 0–30000 — `'E'`;\n",
    "- 30001–50000 — `'D'`;\n",
    "- 50001–200000 — `'C'`;\n",
    "- 200001–1000000 — `'B'`;\n",
    "- 1000001 и выше — `'A'`.\n",
    "\n",
    "\n",
    "**Например, кредитополучателю с доходом 25000 нужно назначить категорию `'E'`, а клиенту, получающему 235000, — `'B'`. Используйте собственную функцию с именем `categorize_income()` и метод `apply()`.**"
   ]
  },
  {
   "cell_type": "code",
   "execution_count": 17,
   "id": "78965238",
   "metadata": {
    "deletable": false,
    "id": "78965238"
   },
   "outputs": [],
   "source": [
    "def categorize_income(income):\n",
    "    try:\n",
    "        if 0 <= income <= 30000:\n",
    "            return 'E'\n",
    "        elif 30001 <= income <= 50000:\n",
    "            return 'D'\n",
    "        elif 50001 <= income <= 200000:\n",
    "            return 'C'\n",
    "        elif 200001 <= income <= 1000000:\n",
    "            return 'B'\n",
    "        elif income >= 1000001:\n",
    "            return 'A'\n",
    "    except:\n",
    "        pass"
   ]
  },
  {
   "cell_type": "code",
   "execution_count": 18,
   "id": "0980ada1",
   "metadata": {
    "deletable": false,
    "id": "0980ada1"
   },
   "outputs": [],
   "source": [
    "data['total_income_category'] = data['total_income'].apply(categorize_income)"
   ]
  },
  {
   "cell_type": "markdown",
   "id": "9917bba0",
   "metadata": {
    "deletable": false,
    "editable": false,
    "id": "9917bba0"
   },
   "source": [
    "**Задание 17. Выведите на экран перечень уникальных целей взятия кредита из столбца `purpose`.**"
   ]
  },
  {
   "cell_type": "code",
   "execution_count": 19,
   "id": "ee07b65e",
   "metadata": {
    "deletable": false,
    "id": "ee07b65e",
    "outputId": "673c12d9-7d7e-4ae0-9812-c622c89dd244"
   },
   "outputs": [
    {
     "data": {
      "text/plain": [
       "array(['покупка жилья', 'приобретение автомобиля',\n",
       "       'дополнительное образование', 'сыграть свадьбу',\n",
       "       'операции с жильем', 'образование', 'на проведение свадьбы',\n",
       "       'покупка жилья для семьи', 'покупка недвижимости',\n",
       "       'покупка коммерческой недвижимости', 'покупка жилой недвижимости',\n",
       "       'строительство собственной недвижимости', 'недвижимость',\n",
       "       'строительство недвижимости', 'на покупку подержанного автомобиля',\n",
       "       'на покупку своего автомобиля',\n",
       "       'операции с коммерческой недвижимостью',\n",
       "       'строительство жилой недвижимости', 'жилье',\n",
       "       'операции со своей недвижимостью', 'автомобили',\n",
       "       'заняться образованием', 'сделка с подержанным автомобилем',\n",
       "       'получение образования', 'автомобиль', 'свадьба',\n",
       "       'получение дополнительного образования', 'покупка своего жилья',\n",
       "       'операции с недвижимостью', 'получение высшего образования',\n",
       "       'свой автомобиль', 'сделка с автомобилем',\n",
       "       'профильное образование', 'высшее образование',\n",
       "       'покупка жилья для сдачи', 'на покупку автомобиля', 'ремонт жилью',\n",
       "       'заняться высшим образованием'], dtype=object)"
      ]
     },
     "execution_count": 19,
     "metadata": {},
     "output_type": "execute_result"
    }
   ],
   "source": [
    "data['purpose'].unique()"
   ]
  },
  {
   "cell_type": "markdown",
   "id": "52b79d56",
   "metadata": {
    "deletable": false,
    "editable": false,
    "id": "52b79d56"
   },
   "source": [
    "**Задание 18. Создайте функцию, которая на основании данных из столбца `purpose` сформирует новый столбец `purpose_category`, в который войдут следующие категории:**\n",
    "\n",
    "- `'операции с автомобилем'`,\n",
    "- `'операции с недвижимостью'`,\n",
    "- `'проведение свадьбы'`,\n",
    "- `'получение образования'`.\n",
    "\n",
    "**Например, если в столбце `purpose` находится подстрока `'на покупку автомобиля'`, то в столбце `purpose_category` должна появиться строка `'операции с автомобилем'`.**\n",
    "\n",
    "**Используйте собственную функцию с именем `categorize_purpose()` и метод `apply()`. Изучите данные в столбце `purpose` и определите, какие подстроки помогут вам правильно определить категорию.**"
   ]
  },
  {
   "cell_type": "code",
   "execution_count": 20,
   "id": "be41da5d",
   "metadata": {
    "deletable": false,
    "id": "be41da5d"
   },
   "outputs": [],
   "source": [
    "def categorize_purpose(row):\n",
    "    try:\n",
    "        if 'автом' in row:\n",
    "            return 'операции с автомобилем'\n",
    "        elif 'жил' in row or 'недвиж' in row:\n",
    "            return 'операции с недвижимостью'\n",
    "        elif 'свад' in row:\n",
    "            return 'проведение свадьбы'\n",
    "        elif 'образов' in row:\n",
    "            return 'получение образования'\n",
    "    except:\n",
    "        return 'нет категории'"
   ]
  },
  {
   "cell_type": "code",
   "execution_count": 21,
   "id": "94c4a19a",
   "metadata": {
    "deletable": false,
    "id": "94c4a19a"
   },
   "outputs": [],
   "source": [
    "data['purpose_category'] = data['purpose'].apply(categorize_purpose)"
   ]
  },
  {
   "cell_type": "markdown",
   "id": "3d596c34",
   "metadata": {
    "deletable": false,
    "editable": false,
    "id": "3d596c34"
   },
   "source": [
    "### Шаг 3. Исследуйте данные и ответьте на вопросы"
   ]
  },
  {
   "cell_type": "markdown",
   "id": "648db036",
   "metadata": {
    "deletable": false,
    "editable": false,
    "id": "648db036"
   },
   "source": [
    "#### 3.1 Есть ли зависимость между количеством детей и возвратом кредита в срок?"
   ]
  },
  {
   "cell_type": "code",
   "execution_count": 22,
   "id": "7fcff25e",
   "metadata": {
    "deletable": false,
    "id": "7fcff25e"
   },
   "outputs": [
    {
     "name": "stdout",
     "output_type": "stream",
     "text": [
      "     count  mean     sum\n",
      "0  14091.0  7.54  1063.0\n",
      "1   4808.0  9.23   444.0\n",
      "2   2052.0  9.45   194.0\n",
      "3    330.0  8.18    27.0\n",
      "4     41.0  9.76     4.0\n",
      "5      9.0  0.00     0.0\n"
     ]
    }
   ],
   "source": [
    "pivot=pd.pivot_table(data, index=['children'], values=['debt'], aggfunc={'sum','count', 'mean'}).reset_index(drop=True)\n",
    "pivot=pivot.droplevel(0,axis=1)\n",
    "pivot['mean']=pivot['mean']*100\n",
    "pivot['mean']=pivot['mean'].round(2)\n",
    "print(pivot)"
   ]
  },
  {
   "cell_type": "code",
   "execution_count": 27,
   "id": "1ec5a644",
   "metadata": {},
   "outputs": [
    {
     "data": {
      "text/html": [
       "<div>\n",
       "<style scoped>\n",
       "    .dataframe tbody tr th:only-of-type {\n",
       "        vertical-align: middle;\n",
       "    }\n",
       "\n",
       "    .dataframe tbody tr th {\n",
       "        vertical-align: top;\n",
       "    }\n",
       "\n",
       "    .dataframe thead th {\n",
       "        text-align: right;\n",
       "    }\n",
       "</style>\n",
       "<table border=\"1\" class=\"dataframe\">\n",
       "  <thead>\n",
       "    <tr style=\"text-align: right;\">\n",
       "      <th></th>\n",
       "      <th>children</th>\n",
       "      <th>count</th>\n",
       "      <th>mean</th>\n",
       "      <th>sum</th>\n",
       "    </tr>\n",
       "  </thead>\n",
       "  <tbody>\n",
       "    <tr>\n",
       "      <th>0</th>\n",
       "      <td>0</td>\n",
       "      <td>14091.0</td>\n",
       "      <td>7.543822</td>\n",
       "      <td>1063.0</td>\n",
       "    </tr>\n",
       "    <tr>\n",
       "      <th>1</th>\n",
       "      <td>1</td>\n",
       "      <td>4808.0</td>\n",
       "      <td>9.234609</td>\n",
       "      <td>444.0</td>\n",
       "    </tr>\n",
       "    <tr>\n",
       "      <th>2</th>\n",
       "      <td>2</td>\n",
       "      <td>2052.0</td>\n",
       "      <td>9.454191</td>\n",
       "      <td>194.0</td>\n",
       "    </tr>\n",
       "    <tr>\n",
       "      <th>3</th>\n",
       "      <td>3</td>\n",
       "      <td>330.0</td>\n",
       "      <td>8.181818</td>\n",
       "      <td>27.0</td>\n",
       "    </tr>\n",
       "    <tr>\n",
       "      <th>4</th>\n",
       "      <td>4</td>\n",
       "      <td>41.0</td>\n",
       "      <td>9.756098</td>\n",
       "      <td>4.0</td>\n",
       "    </tr>\n",
       "    <tr>\n",
       "      <th>5</th>\n",
       "      <td>5</td>\n",
       "      <td>9.0</td>\n",
       "      <td>0.000000</td>\n",
       "      <td>0.0</td>\n",
       "    </tr>\n",
       "  </tbody>\n",
       "</table>\n",
       "</div>"
      ],
      "text/plain": [
       "   children    count      mean     sum\n",
       "0         0  14091.0  7.543822  1063.0\n",
       "1         1   4808.0  9.234609   444.0\n",
       "2         2   2052.0  9.454191   194.0\n",
       "3         3    330.0  8.181818    27.0\n",
       "4         4     41.0  9.756098     4.0\n",
       "5         5      9.0  0.000000     0.0"
      ]
     },
     "execution_count": 27,
     "metadata": {},
     "output_type": "execute_result"
    }
   ],
   "source": [
    "pivot1=pd.pivot_table(data, index=['children'], values=['debt'], aggfunc={'sum','count', 'mean'}).droplevel(0, axis=1).reset_index()\n",
    "pivot1['mean'] *= round(100, 2)\n",
    "pivot1"
   ]
  },
  {
   "cell_type": "markdown",
   "id": "2eb9088e",
   "metadata": {
    "deletable": false,
    "id": "2eb9088e"
   },
   "source": [
    "Вывод: Исходя из процетного соотношения, можно сделать вывод, что наличие детей влияет на причину возравта кредита. Так как процент невозврата в срок у людей, у которых нет детей-7,54%.. Более высокий процент возврата кредита не в срок у людей с одним или двумя детьми: 9,23% и 9,45%. Категории людей с 3-5 детьми не будут корректно отражать данные, так как их количество меньше."
   ]
  },
  {
   "cell_type": "markdown",
   "id": "74c9b3a7",
   "metadata": {
    "deletable": false,
    "editable": false,
    "id": "74c9b3a7"
   },
   "source": [
    "#### 3.2 Есть ли зависимость между семейным положением и возвратом кредита в срок?"
   ]
  },
  {
   "cell_type": "code",
   "execution_count": 24,
   "id": "8098ab3b",
   "metadata": {
    "deletable": false,
    "id": "8098ab3b",
    "scrolled": true
   },
   "outputs": [
    {
     "name": "stdout",
     "output_type": "stream",
     "text": [
      "                        count  mean   sum\n",
      "Не женат / не замужем  2796.0  9.76 273.0\n",
      "            в разводе  1189.0  7.06  84.0\n",
      "       вдовец / вдова   951.0  6.62  63.0\n",
      "     гражданский брак  4134.0  9.31 385.0\n",
      "      женат / замужем 12261.0  7.56 927.0\n",
      "\n",
      "          count  mean    sum\n",
      "в браке 16395.0  8.00 1312.0\n",
      " холост  4936.0  8.51  420.0\n"
     ]
    }
   ],
   "source": [
    "#data['ndebt']=data['debt']\n",
    "pivot=pd.pivot_table(data, index=['family_status'], values=['debt'], aggfunc={'sum','count', 'mean'}).reset_index()\n",
    "pivot=pivot.droplevel(0,axis=1)\n",
    "pivot['mean']=pivot['mean']*100\n",
    "pivot['mean']=pivot['mean'].round(2)\n",
    "print(pivot.to_string(index=False)) #не выводит столбец с индексами'\n",
    "print('')\n",
    "def categorize_familystatus(row):\n",
    "    try:\n",
    "        if row=='Не женат / не замужем' :\n",
    "            return 'холост'\n",
    "        elif row=='в разводе':\n",
    "            return 'холост'\n",
    "        elif  row=='вдовец / вдова':\n",
    "            return 'холост'\n",
    "        elif row=='гражданский брак':\n",
    "            return 'в браке'\n",
    "        elif row=='женат / замужем':\n",
    "            return 'в браке'\n",
    "    except:\n",
    "        return 'нет категории'\n",
    "data['total_family_status'] = data['family_status'].apply(categorize_familystatus)\n",
    "pivot_new=pd.pivot_table(data, index=['total_family_status'], values=['debt'], aggfunc={'sum','count', 'mean'}).reset_index()\n",
    "pivot_new=pivot_new.droplevel(0,axis=1)\n",
    "pivot_new['mean']=pivot_new['mean']*100\n",
    "pivot_new['mean']=pivot_new['mean'].round(2)\n",
    "print(pivot_new.to_string(index=False))"
   ]
  },
  {
   "cell_type": "markdown",
   "id": "c389ca63",
   "metadata": {
    "deletable": false,
    "id": "c389ca63"
   },
   "source": [
    "Вывод: В данной выборке количество холостых людей (Не женат / не замужем, в разводе, вдовец / вдова) меньше-4936, чем людей, находищихся в браке,-16395. Распределив категории на две:холост и в браке, процетное соотношение невозврата кредита в срок составляет: 8,51% и 8%. Холостые люди имеют задолженность по кредиту больше, чем люди, находящиеся в браке. Но из-за несбалансировсти выборки точно опредить зависимость нельзя."
   ]
  },
  {
   "cell_type": "markdown",
   "id": "9529de68",
   "metadata": {
    "deletable": false,
    "editable": false,
    "id": "9529de68"
   },
   "source": [
    "#### 3.3 Есть ли зависимость между уровнем дохода и возвратом кредита в срок?"
   ]
  },
  {
   "cell_type": "code",
   "execution_count": 25,
   "id": "8787f44a",
   "metadata": {
    "deletable": false,
    "id": "8787f44a"
   },
   "outputs": [
    {
     "name": "stdout",
     "output_type": "stream",
     "text": [
      "    count  mean    sum\n",
      "A    25.0  8.00    2.0\n",
      "B  5014.0  7.06  354.0\n",
      "C 15921.0  8.50 1353.0\n",
      "D   349.0  6.02   21.0\n",
      "E    22.0  9.09    2.0\n"
     ]
    }
   ],
   "source": [
    "pivot=pd.pivot_table(data, index=['total_income_category'], values=['debt'], aggfunc={'sum','count', 'mean'}).reset_index()\n",
    "pivot=pivot.droplevel(0,axis=1)\n",
    "pivot['mean']=pivot['mean']*100\n",
    "pivot['mean']=pivot['mean'].round(2)\n",
    "print(pivot.to_string(index=False))"
   ]
  },
  {
   "cell_type": "markdown",
   "id": "6dd14b57",
   "metadata": {
    "deletable": false,
    "id": "6dd14b57"
   },
   "source": [
    "Вывод: Сравнивания категории B и C, процент невозрата кредита состававлет 7,06% и 8,50% соответственно.Можно предположить, что с увеличнием дохода процент невозврата кредита в срок увеличиватеся. Остальные категории не берутся во внимание из-за равнозначенного количесво с вышеперечисленными категориями."
   ]
  },
  {
   "cell_type": "markdown",
   "id": "1dcc9b12",
   "metadata": {
    "deletable": false,
    "editable": false,
    "id": "1dcc9b12"
   },
   "source": [
    "#### 3.4 Как разные цели кредита влияют на его возврат в срок?"
   ]
  },
  {
   "cell_type": "code",
   "execution_count": 26,
   "id": "c602bc8b",
   "metadata": {
    "deletable": false,
    "id": "c602bc8b"
   },
   "outputs": [
    {
     "name": "stdout",
     "output_type": "stream",
     "text": [
      "                           count  mean   sum\n",
      "  операции с автомобилем  4279.0  9.35 400.0\n",
      "операции с недвижимостью 10751.0  7.26 780.0\n",
      "   получение образования  3988.0  9.25 369.0\n",
      "      проведение свадьбы  2313.0  7.91 183.0\n"
     ]
    }
   ],
   "source": [
    "pivot=pd.pivot_table(data, index=['purpose_category'], values=['debt'], aggfunc={'sum','count', 'mean'}).reset_index()\n",
    "pivot=pivot.droplevel(0,axis=1)\n",
    "pivot['mean']=pivot['mean']*100\n",
    "pivot['mean']=pivot['mean'].round(2)\n",
    "print(pivot.to_string(index=False))"
   ]
  },
  {
   "cell_type": "markdown",
   "id": "cf05ed63",
   "metadata": {
    "deletable": false,
    "id": "cf05ed63"
   },
   "source": [
    "Вывод: Меньше всего кредит берется на проведние свадьбы, процент погашения не срок-7,91%. Процентные значения для категорий \"операции с автомобилем\" и \"получения образования\" составляют 9,35% и 9,25% соответственно. Больше всего кредитов по ипотеке, не возвращают кредит в срок 7,26% людей из этой категории. Из-за несбалансированности выборки однозначно определить зависимоть невозможно. Но все категории, кроме проведение свадьбы, имеет большой процент задолженности. "
   ]
  },
  {
   "cell_type": "markdown",
   "id": "46c1f10b",
   "metadata": {
    "deletable": false,
    "editable": false,
    "id": "46c1f10b"
   },
   "source": [
    "#### 3.5 Приведите возможные причины появления пропусков в исходных данных."
   ]
  },
  {
   "cell_type": "markdown",
   "id": "3697d2a9",
   "metadata": {
    "deletable": false,
    "id": "3697d2a9"
   },
   "source": [
    "Ответ:\n",
    "1.Отсутвуют совершенно случайно-встреча пропуска не зависит от других переменных.\n",
    "2.Отсутвует случайно- встреча пропуска зависит от других значений не своего столбца.\n",
    "3.Отсутсвует неслучайно-встреча пропусков зависит от других значений. \n",
    "Исходя из классификации пропусков данных, можно сделать вывод, что многое зависит от сбора и ввода данных."
   ]
  },
  {
   "cell_type": "markdown",
   "id": "3137d257",
   "metadata": {
    "deletable": false,
    "editable": false,
    "id": "3137d257"
   },
   "source": [
    "#### 3.6 Объясните, почему заполнить пропуски медианным значением — лучшее решение для количественных переменных."
   ]
  },
  {
   "cell_type": "markdown",
   "id": "cf40012a",
   "metadata": {
    "deletable": false,
    "id": "cf40012a"
   },
   "source": [
    "Ответ: Так как среднее значение не отражет правдивую картину. Например, з/п сотрудников  100, 100, 100, 300. Среднее значние- 150-, хотя большее количесвто получает 100. Поэтому медианное значение 100 будет отражать более точную информацию."
   ]
  },
  {
   "cell_type": "markdown",
   "id": "57bc304e",
   "metadata": {
    "deletable": false,
    "editable": false,
    "id": "57bc304e"
   },
   "source": [
    "### Шаг 4: общий вывод."
   ]
  },
  {
   "cell_type": "markdown",
   "id": "1ab75d1c",
   "metadata": {
    "deletable": false,
    "id": "1ab75d1c"
   },
   "source": [
    "Завершив ислледование данных о зависимостях между различными категориями и погашением кредита в срок, можно выделить следеющее:\n",
    "<ul>\n",
    "<li>Количество детей влияет на погащениия кредита. Процентное значение невозврата в срок у  людей с одним или двумя детьми: 9,23 и 9,45, у кого нет детей-7,54.</li>\n",
    "<li>Однозначно определить зависимость между семейнйм положением и возвратом кредита невозможно из-за несбалансированости выборки. Однако процент невовзрата в срок у категории холост составляет 8,51, а у людей в браке-8.</li>  \n",
    "<li>С повышнием уровня дохода увеличивается возможность задолжности по кредиту. По категорям уровня дохада В(200001–1000000) и С(50001–200000) возврат кредита в срок составляет 7,06% и 8,50%.</li>\n",
    "<li>Однозначно можно сказать, что меньше всего кредит берут на проведение свадьбы (2313 людей) и задолжность по кредита составляет 7.91%. На другие цели берется больше: операции с автомобилем- 4279, операции с недвижимостью-10751, получение образования- 3988.0. Процетные значения равны:9.35, 7.26 и 9.25.</li>\n",
    "</ul>\n",
    "Нет сбалансииованности данных, выделено много категорий, по категориям неравное соотношение данных, поэтому однознано выделить зависимости тяжело. Рекомендуется равное соотношение по категоряим."
   ]
  },
  {
   "cell_type": "code",
   "execution_count": null,
   "id": "a4d60b53",
   "metadata": {},
   "outputs": [],
   "source": []
  }
 ],
 "metadata": {
  "ExecuteTimeLog": [
   {
    "duration": 485,
    "start_time": "2023-03-13T10:30:21.651Z"
   },
   {
    "duration": 21,
    "start_time": "2023-03-13T10:30:27.219Z"
   },
   {
    "duration": 4,
    "start_time": "2023-03-13T10:37:43.227Z"
   },
   {
    "duration": 4,
    "start_time": "2023-03-13T10:37:49.489Z"
   },
   {
    "duration": 3,
    "start_time": "2023-03-13T10:42:21.414Z"
   },
   {
    "duration": 73,
    "start_time": "2023-03-13T10:42:32.918Z"
   },
   {
    "duration": 16,
    "start_time": "2023-03-13T10:42:35.824Z"
   },
   {
    "duration": 13,
    "start_time": "2023-03-13T10:42:38.880Z"
   },
   {
    "duration": 10,
    "start_time": "2023-03-13T10:42:41.250Z"
   },
   {
    "duration": 30,
    "start_time": "2023-03-13T10:42:55.612Z"
   },
   {
    "duration": 4,
    "start_time": "2023-03-13T10:42:57.586Z"
   },
   {
    "duration": 9,
    "start_time": "2023-03-13T10:42:59.826Z"
   },
   {
    "duration": 4,
    "start_time": "2023-03-13T10:43:02.431Z"
   },
   {
    "duration": 6,
    "start_time": "2023-03-13T10:43:05.646Z"
   },
   {
    "duration": 4,
    "start_time": "2023-03-13T10:43:07.860Z"
   },
   {
    "duration": 28,
    "start_time": "2023-03-13T10:43:10.366Z"
   },
   {
    "duration": 9,
    "start_time": "2023-03-13T10:43:12.567Z"
   },
   {
    "duration": 4,
    "start_time": "2023-03-13T10:43:15.976Z"
   },
   {
    "duration": 9,
    "start_time": "2023-03-13T10:43:17.775Z"
   },
   {
    "duration": 18,
    "start_time": "2023-03-13T10:43:20.718Z"
   },
   {
    "duration": 17,
    "start_time": "2023-03-13T10:43:22.931Z"
   },
   {
    "duration": 3,
    "start_time": "2023-03-13T10:43:25.623Z"
   },
   {
    "duration": 8,
    "start_time": "2023-03-13T10:43:27.800Z"
   },
   {
    "duration": 6,
    "start_time": "2023-03-13T10:43:29.671Z"
   },
   {
    "duration": 4,
    "start_time": "2023-03-13T10:43:32.862Z"
   },
   {
    "duration": 8,
    "start_time": "2023-03-13T10:43:34.624Z"
   },
   {
    "duration": 3,
    "start_time": "2023-03-13T10:43:36.844Z"
   },
   {
    "duration": 4,
    "start_time": "2023-03-13T10:44:24.940Z"
   },
   {
    "duration": 11,
    "start_time": "2023-03-13T10:46:09.533Z"
   },
   {
    "duration": 1230,
    "start_time": "2023-03-13T10:47:37.350Z"
   },
   {
    "duration": 17,
    "start_time": "2023-03-13T10:47:53.008Z"
   },
   {
    "duration": 4,
    "start_time": "2023-03-13T10:49:12.931Z"
   },
   {
    "duration": 3,
    "start_time": "2023-03-13T10:49:14.961Z"
   },
   {
    "duration": 6,
    "start_time": "2023-03-13T10:49:23.507Z"
   },
   {
    "duration": 4,
    "start_time": "2023-03-13T10:51:28.160Z"
   },
   {
    "duration": 3,
    "start_time": "2023-03-13T10:51:42.621Z"
   },
   {
    "duration": 5,
    "start_time": "2023-03-13T10:52:28.719Z"
   },
   {
    "duration": 3,
    "start_time": "2023-03-13T10:55:27.589Z"
   },
   {
    "duration": 3,
    "start_time": "2023-03-13T10:55:29.048Z"
   },
   {
    "duration": 3,
    "start_time": "2023-03-13T10:55:35.622Z"
   },
   {
    "duration": 73,
    "start_time": "2023-03-13T10:55:53.657Z"
   },
   {
    "duration": 3,
    "start_time": "2023-03-13T10:56:00.056Z"
   },
   {
    "duration": 3,
    "start_time": "2023-03-13T10:56:34.803Z"
   },
   {
    "duration": 3,
    "start_time": "2023-03-13T10:57:30.210Z"
   },
   {
    "duration": 5,
    "start_time": "2023-03-13T11:00:06.482Z"
   },
   {
    "duration": 4,
    "start_time": "2023-03-13T11:06:19.718Z"
   },
   {
    "duration": 8,
    "start_time": "2023-03-13T12:22:40.397Z"
   },
   {
    "duration": 13,
    "start_time": "2023-03-13T12:23:31.331Z"
   },
   {
    "duration": 9,
    "start_time": "2023-03-13T12:23:40.758Z"
   },
   {
    "duration": 13,
    "start_time": "2023-03-13T12:24:12.189Z"
   },
   {
    "duration": 15,
    "start_time": "2023-03-13T12:24:29.922Z"
   },
   {
    "duration": 13,
    "start_time": "2023-03-13T12:25:29.835Z"
   },
   {
    "duration": 117,
    "start_time": "2023-03-13T12:28:17.182Z"
   },
   {
    "duration": 75,
    "start_time": "2023-03-13T12:28:30.801Z"
   },
   {
    "duration": 34,
    "start_time": "2023-03-13T12:30:29.800Z"
   },
   {
    "duration": 67,
    "start_time": "2023-03-13T12:32:11.282Z"
   },
   {
    "duration": 20,
    "start_time": "2023-03-13T12:32:16.759Z"
   },
   {
    "duration": 23,
    "start_time": "2023-03-13T12:32:31.705Z"
   },
   {
    "duration": 22,
    "start_time": "2023-03-13T12:32:38.122Z"
   },
   {
    "duration": 25,
    "start_time": "2023-03-13T12:32:47.058Z"
   },
   {
    "duration": 21,
    "start_time": "2023-03-13T12:32:51.715Z"
   },
   {
    "duration": 18,
    "start_time": "2023-03-13T12:35:08.189Z"
   },
   {
    "duration": 20,
    "start_time": "2023-03-13T12:35:21.732Z"
   },
   {
    "duration": 20,
    "start_time": "2023-03-13T12:35:44.015Z"
   },
   {
    "duration": 19,
    "start_time": "2023-03-13T12:38:08.501Z"
   },
   {
    "duration": 20,
    "start_time": "2023-03-13T12:38:19.816Z"
   },
   {
    "duration": 20,
    "start_time": "2023-03-13T12:38:39.057Z"
   },
   {
    "duration": 18,
    "start_time": "2023-03-13T12:38:50.347Z"
   },
   {
    "duration": 3,
    "start_time": "2023-03-13T12:41:54.147Z"
   },
   {
    "duration": 6,
    "start_time": "2023-03-13T12:41:59.359Z"
   },
   {
    "duration": 8,
    "start_time": "2023-03-13T12:44:02.496Z"
   },
   {
    "duration": 11,
    "start_time": "2023-03-13T12:44:23.713Z"
   },
   {
    "duration": 4,
    "start_time": "2023-03-13T12:44:45.085Z"
   },
   {
    "duration": 3,
    "start_time": "2023-03-13T12:45:10.107Z"
   },
   {
    "duration": 4,
    "start_time": "2023-03-13T12:45:14.387Z"
   },
   {
    "duration": 4,
    "start_time": "2023-03-13T12:46:40.967Z"
   },
   {
    "duration": 9,
    "start_time": "2023-03-13T12:46:59.376Z"
   },
   {
    "duration": 4,
    "start_time": "2023-03-13T12:47:00.796Z"
   },
   {
    "duration": 10,
    "start_time": "2023-03-13T12:47:27.842Z"
   },
   {
    "duration": 5,
    "start_time": "2023-03-13T12:49:39.858Z"
   },
   {
    "duration": 10,
    "start_time": "2023-03-13T12:52:35.149Z"
   },
   {
    "duration": 73,
    "start_time": "2023-03-13T12:52:46.854Z"
   },
   {
    "duration": 9,
    "start_time": "2023-03-13T12:53:05.334Z"
   },
   {
    "duration": 8,
    "start_time": "2023-03-13T12:54:52.176Z"
   },
   {
    "duration": 29,
    "start_time": "2023-03-13T12:56:39.013Z"
   },
   {
    "duration": 12,
    "start_time": "2023-03-13T12:56:53.343Z"
   },
   {
    "duration": 5,
    "start_time": "2023-03-13T12:57:41.002Z"
   },
   {
    "duration": 11,
    "start_time": "2023-03-13T12:57:58.052Z"
   },
   {
    "duration": 5,
    "start_time": "2023-03-13T12:58:17.736Z"
   },
   {
    "duration": 5,
    "start_time": "2023-03-13T12:58:51.666Z"
   },
   {
    "duration": 9,
    "start_time": "2023-03-13T12:59:09.191Z"
   },
   {
    "duration": 2199,
    "start_time": "2023-03-13T13:00:00.914Z"
   },
   {
    "duration": 1033,
    "start_time": "2023-03-13T13:00:07.049Z"
   },
   {
    "duration": 4,
    "start_time": "2023-03-13T13:03:43.278Z"
   },
   {
    "duration": 11,
    "start_time": "2023-03-13T13:04:04.786Z"
   },
   {
    "duration": 7,
    "start_time": "2023-03-13T13:06:22.479Z"
   },
   {
    "duration": 6,
    "start_time": "2023-03-13T13:06:24.576Z"
   },
   {
    "duration": 6,
    "start_time": "2023-03-13T13:07:27.258Z"
   },
   {
    "duration": 6,
    "start_time": "2023-03-13T13:07:50.894Z"
   },
   {
    "duration": 5,
    "start_time": "2023-03-13T13:08:53.034Z"
   },
   {
    "duration": 5,
    "start_time": "2023-03-13T13:08:55.277Z"
   },
   {
    "duration": 6,
    "start_time": "2023-03-13T13:10:31.938Z"
   },
   {
    "duration": 10,
    "start_time": "2023-03-13T13:10:49.081Z"
   },
   {
    "duration": 8,
    "start_time": "2023-03-13T13:10:58.459Z"
   },
   {
    "duration": 6,
    "start_time": "2023-03-13T13:11:09.152Z"
   },
   {
    "duration": 15,
    "start_time": "2023-03-13T13:11:16.395Z"
   },
   {
    "duration": 8,
    "start_time": "2023-03-13T13:11:51.246Z"
   },
   {
    "duration": 13,
    "start_time": "2023-03-13T13:19:38.860Z"
   },
   {
    "duration": 13,
    "start_time": "2023-03-13T13:19:52.240Z"
   },
   {
    "duration": 14,
    "start_time": "2023-03-13T13:22:27.831Z"
   },
   {
    "duration": 27,
    "start_time": "2023-03-13T13:24:05.310Z"
   },
   {
    "duration": 15,
    "start_time": "2023-03-13T13:24:48.898Z"
   },
   {
    "duration": 17,
    "start_time": "2023-03-13T13:25:11.118Z"
   },
   {
    "duration": 13,
    "start_time": "2023-03-13T13:25:31.948Z"
   },
   {
    "duration": 85,
    "start_time": "2023-03-13T13:27:43.003Z"
   },
   {
    "duration": 13,
    "start_time": "2023-03-13T13:27:51.956Z"
   },
   {
    "duration": 19,
    "start_time": "2023-03-13T13:28:03.491Z"
   },
   {
    "duration": 69,
    "start_time": "2023-03-13T13:35:10.142Z"
   },
   {
    "duration": 15,
    "start_time": "2023-03-13T13:38:08.394Z"
   },
   {
    "duration": 14,
    "start_time": "2023-03-13T13:39:13.486Z"
   },
   {
    "duration": 17,
    "start_time": "2023-03-13T13:40:31.586Z"
   },
   {
    "duration": 13,
    "start_time": "2023-03-13T13:41:40.394Z"
   },
   {
    "duration": 13,
    "start_time": "2023-03-13T13:42:00.158Z"
   },
   {
    "duration": 8,
    "start_time": "2023-03-13T13:42:44.686Z"
   },
   {
    "duration": 13,
    "start_time": "2023-03-13T13:42:51.196Z"
   },
   {
    "duration": 13,
    "start_time": "2023-03-13T13:43:06.885Z"
   },
   {
    "duration": 3,
    "start_time": "2023-03-13T13:46:52.694Z"
   },
   {
    "duration": 11,
    "start_time": "2023-03-13T13:46:56.854Z"
   },
   {
    "duration": 7,
    "start_time": "2023-03-13T13:48:55.903Z"
   },
   {
    "duration": 7,
    "start_time": "2023-03-13T13:49:08.704Z"
   },
   {
    "duration": 7,
    "start_time": "2023-03-13T13:49:12.226Z"
   },
   {
    "duration": 3,
    "start_time": "2023-03-13T13:49:18.989Z"
   },
   {
    "duration": 9,
    "start_time": "2023-03-13T13:49:22.461Z"
   },
   {
    "duration": 7,
    "start_time": "2023-03-13T13:49:47.345Z"
   },
   {
    "duration": 6,
    "start_time": "2023-03-13T13:52:04.592Z"
   },
   {
    "duration": 7,
    "start_time": "2023-03-13T13:53:21.702Z"
   },
   {
    "duration": 11,
    "start_time": "2023-03-13T13:54:13.844Z"
   },
   {
    "duration": 7,
    "start_time": "2023-03-13T13:56:16.083Z"
   },
   {
    "duration": 6,
    "start_time": "2023-03-13T13:58:39.008Z"
   },
   {
    "duration": 6,
    "start_time": "2023-03-13T14:04:24.493Z"
   },
   {
    "duration": 28,
    "start_time": "2023-03-13T14:06:40.723Z"
   },
   {
    "duration": 10,
    "start_time": "2023-03-13T14:07:34.648Z"
   },
   {
    "duration": 97,
    "start_time": "2023-03-13T14:08:21.912Z"
   },
   {
    "duration": 13,
    "start_time": "2023-03-13T14:08:26.644Z"
   },
   {
    "duration": 13,
    "start_time": "2023-03-13T14:10:09.204Z"
   },
   {
    "duration": 14,
    "start_time": "2023-03-13T14:10:58.788Z"
   },
   {
    "duration": 14,
    "start_time": "2023-03-13T14:20:25.548Z"
   },
   {
    "duration": 15,
    "start_time": "2023-03-13T14:20:43.326Z"
   },
   {
    "duration": 19,
    "start_time": "2023-03-13T14:27:00.934Z"
   },
   {
    "duration": 14,
    "start_time": "2023-03-13T14:27:25.403Z"
   },
   {
    "duration": 15,
    "start_time": "2023-03-13T14:27:44.797Z"
   },
   {
    "duration": 17,
    "start_time": "2023-03-13T14:27:56.095Z"
   },
   {
    "duration": 23,
    "start_time": "2023-03-13T14:32:55.090Z"
   },
   {
    "duration": 13,
    "start_time": "2023-03-13T14:33:51.626Z"
   },
   {
    "duration": 15,
    "start_time": "2023-03-13T14:34:35.392Z"
   },
   {
    "duration": 13,
    "start_time": "2023-03-13T14:34:40.664Z"
   },
   {
    "duration": 14,
    "start_time": "2023-03-13T14:43:28.308Z"
   },
   {
    "duration": 4,
    "start_time": "2023-03-13T14:43:46.306Z"
   },
   {
    "duration": 14,
    "start_time": "2023-03-13T14:43:54.145Z"
   },
   {
    "duration": 15,
    "start_time": "2023-03-13T14:44:57.592Z"
   },
   {
    "duration": 16,
    "start_time": "2023-03-13T14:52:50.729Z"
   },
   {
    "duration": 15,
    "start_time": "2023-03-13T14:53:03.078Z"
   },
   {
    "duration": 15,
    "start_time": "2023-03-13T14:54:48.301Z"
   },
   {
    "duration": 48,
    "start_time": "2023-03-14T08:12:50.396Z"
   },
   {
    "duration": 528,
    "start_time": "2023-03-14T08:13:06.501Z"
   },
   {
    "duration": 22,
    "start_time": "2023-03-14T08:13:08.796Z"
   },
   {
    "duration": 15,
    "start_time": "2023-03-14T08:13:11.140Z"
   },
   {
    "duration": 10,
    "start_time": "2023-03-14T08:13:13.412Z"
   },
   {
    "duration": 37,
    "start_time": "2023-03-14T08:13:15.158Z"
   },
   {
    "duration": 3,
    "start_time": "2023-03-14T08:13:16.999Z"
   },
   {
    "duration": 8,
    "start_time": "2023-03-14T08:13:18.271Z"
   },
   {
    "duration": 4,
    "start_time": "2023-03-14T08:13:19.834Z"
   },
   {
    "duration": 8,
    "start_time": "2023-03-14T08:13:21.325Z"
   },
   {
    "duration": 5,
    "start_time": "2023-03-14T08:13:22.659Z"
   },
   {
    "duration": 34,
    "start_time": "2023-03-14T08:13:24.141Z"
   },
   {
    "duration": 10,
    "start_time": "2023-03-14T08:13:26.436Z"
   },
   {
    "duration": 4,
    "start_time": "2023-03-14T08:13:28.296Z"
   },
   {
    "duration": 12,
    "start_time": "2023-03-14T08:13:29.997Z"
   },
   {
    "duration": 21,
    "start_time": "2023-03-14T08:13:32.013Z"
   },
   {
    "duration": 18,
    "start_time": "2023-03-14T08:13:33.470Z"
   },
   {
    "duration": 3,
    "start_time": "2023-03-14T08:13:35.339Z"
   },
   {
    "duration": 11,
    "start_time": "2023-03-14T08:13:36.806Z"
   },
   {
    "duration": 7,
    "start_time": "2023-03-14T08:13:38.548Z"
   },
   {
    "duration": 3,
    "start_time": "2023-03-14T08:13:40.572Z"
   },
   {
    "duration": 8,
    "start_time": "2023-03-14T08:13:42.133Z"
   },
   {
    "duration": 23,
    "start_time": "2023-03-14T08:13:43.499Z"
   },
   {
    "duration": 19,
    "start_time": "2023-03-14T08:13:58.292Z"
   },
   {
    "duration": 17,
    "start_time": "2023-03-14T08:14:25.654Z"
   },
   {
    "duration": 26,
    "start_time": "2023-03-14T08:27:00.965Z"
   },
   {
    "duration": 43,
    "start_time": "2023-03-15T07:19:26.380Z"
   },
   {
    "duration": 488,
    "start_time": "2023-03-15T07:19:31.752Z"
   },
   {
    "duration": 21,
    "start_time": "2023-03-15T07:19:37.232Z"
   },
   {
    "duration": 13,
    "start_time": "2023-03-15T07:19:40.825Z"
   },
   {
    "duration": 14,
    "start_time": "2023-03-15T07:19:43.554Z"
   },
   {
    "duration": 38,
    "start_time": "2023-03-15T07:19:45.688Z"
   },
   {
    "duration": 3,
    "start_time": "2023-03-15T07:19:47.777Z"
   },
   {
    "duration": 9,
    "start_time": "2023-03-15T07:19:50.630Z"
   },
   {
    "duration": 4,
    "start_time": "2023-03-15T07:19:53.240Z"
   },
   {
    "duration": 6,
    "start_time": "2023-03-15T07:19:59.527Z"
   },
   {
    "duration": 5,
    "start_time": "2023-03-15T07:20:01.929Z"
   },
   {
    "duration": 32,
    "start_time": "2023-03-15T07:20:04.075Z"
   },
   {
    "duration": 12,
    "start_time": "2023-03-15T07:20:06.191Z"
   },
   {
    "duration": 4,
    "start_time": "2023-03-15T07:20:09.207Z"
   },
   {
    "duration": 13,
    "start_time": "2023-03-15T07:20:11.467Z"
   },
   {
    "duration": 18,
    "start_time": "2023-03-15T07:20:13.723Z"
   },
   {
    "duration": 15,
    "start_time": "2023-03-15T07:20:15.382Z"
   },
   {
    "duration": 4,
    "start_time": "2023-03-15T07:20:17.448Z"
   },
   {
    "duration": 15,
    "start_time": "2023-03-15T07:20:19.117Z"
   },
   {
    "duration": 7,
    "start_time": "2023-03-15T07:20:20.892Z"
   },
   {
    "duration": 3,
    "start_time": "2023-03-15T07:20:24.082Z"
   },
   {
    "duration": 8,
    "start_time": "2023-03-15T07:20:25.994Z"
   },
   {
    "duration": 38,
    "start_time": "2023-03-15T07:20:27.931Z"
   },
   {
    "duration": 53,
    "start_time": "2023-03-15T07:20:41.680Z"
   },
   {
    "duration": 19,
    "start_time": "2023-03-15T07:22:39.762Z"
   },
   {
    "duration": 33,
    "start_time": "2023-03-15T07:22:48.638Z"
   },
   {
    "duration": 63,
    "start_time": "2023-03-15T07:24:47.437Z"
   },
   {
    "duration": 28,
    "start_time": "2023-03-15T07:25:02.104Z"
   },
   {
    "duration": 34,
    "start_time": "2023-03-15T07:33:34.035Z"
   },
   {
    "duration": 40,
    "start_time": "2023-03-15T07:34:00.534Z"
   },
   {
    "duration": 41,
    "start_time": "2023-03-15T07:34:22.529Z"
   },
   {
    "duration": 33,
    "start_time": "2023-03-15T07:34:46.012Z"
   },
   {
    "duration": 22,
    "start_time": "2023-03-15T07:34:57.412Z"
   },
   {
    "duration": 21,
    "start_time": "2023-03-15T07:35:20.604Z"
   },
   {
    "duration": 29,
    "start_time": "2023-03-15T07:35:43.763Z"
   },
   {
    "duration": 24,
    "start_time": "2023-03-15T07:35:54.846Z"
   },
   {
    "duration": 23,
    "start_time": "2023-03-15T07:36:11.907Z"
   },
   {
    "duration": 27,
    "start_time": "2023-03-15T07:36:27.659Z"
   },
   {
    "duration": 24,
    "start_time": "2023-03-15T07:36:37.775Z"
   },
   {
    "duration": 23,
    "start_time": "2023-03-15T07:36:41.132Z"
   },
   {
    "duration": 21,
    "start_time": "2023-03-15T07:36:58.647Z"
   },
   {
    "duration": 26,
    "start_time": "2023-03-15T07:37:32.623Z"
   },
   {
    "duration": 24,
    "start_time": "2023-03-15T07:38:01.856Z"
   },
   {
    "duration": 25,
    "start_time": "2023-03-15T07:38:17.703Z"
   },
   {
    "duration": 23,
    "start_time": "2023-03-15T07:39:37.827Z"
   },
   {
    "duration": 19,
    "start_time": "2023-03-15T07:40:54.871Z"
   },
   {
    "duration": 26,
    "start_time": "2023-03-15T07:43:49.215Z"
   },
   {
    "duration": 21,
    "start_time": "2023-03-15T07:43:58.748Z"
   },
   {
    "duration": 20,
    "start_time": "2023-03-15T07:44:09.119Z"
   },
   {
    "duration": 21,
    "start_time": "2023-03-15T07:45:46.211Z"
   },
   {
    "duration": 25,
    "start_time": "2023-03-15T07:52:59.612Z"
   },
   {
    "duration": 23,
    "start_time": "2023-03-15T07:53:14.235Z"
   },
   {
    "duration": 25,
    "start_time": "2023-03-15T07:53:33.642Z"
   },
   {
    "duration": 26,
    "start_time": "2023-03-15T07:53:38.149Z"
   },
   {
    "duration": 27,
    "start_time": "2023-03-15T07:53:44.332Z"
   },
   {
    "duration": 28,
    "start_time": "2023-03-15T07:53:47.424Z"
   },
   {
    "duration": 23,
    "start_time": "2023-03-15T07:54:08.820Z"
   },
   {
    "duration": 21,
    "start_time": "2023-03-15T07:54:16.632Z"
   },
   {
    "duration": 27,
    "start_time": "2023-03-15T07:54:35.153Z"
   },
   {
    "duration": 35,
    "start_time": "2023-03-15T07:55:01.824Z"
   },
   {
    "duration": 21,
    "start_time": "2023-03-15T07:55:14.004Z"
   },
   {
    "duration": 31,
    "start_time": "2023-03-15T07:55:31.356Z"
   },
   {
    "duration": 21,
    "start_time": "2023-03-15T07:56:45.039Z"
   },
   {
    "duration": 27,
    "start_time": "2023-03-15T07:57:04.360Z"
   },
   {
    "duration": 30,
    "start_time": "2023-03-15T07:57:18.923Z"
   },
   {
    "duration": 23,
    "start_time": "2023-03-15T07:57:36.751Z"
   },
   {
    "duration": 26,
    "start_time": "2023-03-15T08:11:37.670Z"
   },
   {
    "duration": 19,
    "start_time": "2023-03-15T08:11:53.432Z"
   },
   {
    "duration": 27,
    "start_time": "2023-03-15T08:12:14.614Z"
   },
   {
    "duration": 21,
    "start_time": "2023-03-15T08:12:59.024Z"
   },
   {
    "duration": 22,
    "start_time": "2023-03-15T08:13:20.742Z"
   },
   {
    "duration": 29,
    "start_time": "2023-03-15T08:13:42.426Z"
   },
   {
    "duration": 21,
    "start_time": "2023-03-15T08:13:53.826Z"
   },
   {
    "duration": 16,
    "start_time": "2023-03-15T08:15:17.054Z"
   },
   {
    "duration": 32,
    "start_time": "2023-03-15T08:15:48.013Z"
   },
   {
    "duration": 19,
    "start_time": "2023-03-15T08:16:01.054Z"
   },
   {
    "duration": 27,
    "start_time": "2023-03-15T08:16:03.445Z"
   },
   {
    "duration": 22,
    "start_time": "2023-03-15T08:16:07.618Z"
   },
   {
    "duration": 4,
    "start_time": "2023-03-15T10:09:27.239Z"
   },
   {
    "duration": 42,
    "start_time": "2023-03-15T10:09:32.870Z"
   },
   {
    "duration": 40,
    "start_time": "2023-03-15T10:09:37.200Z"
   },
   {
    "duration": 41,
    "start_time": "2023-03-15T10:10:03.924Z"
   },
   {
    "duration": 51,
    "start_time": "2023-03-15T10:10:20.312Z"
   },
   {
    "duration": 44,
    "start_time": "2023-03-15T10:10:38.016Z"
   },
   {
    "duration": 85,
    "start_time": "2023-03-15T10:15:24.829Z"
   },
   {
    "duration": 55,
    "start_time": "2023-03-15T11:29:47.306Z"
   },
   {
    "duration": 114,
    "start_time": "2023-03-16T10:52:35.388Z"
   },
   {
    "duration": 544,
    "start_time": "2023-03-16T10:54:11.511Z"
   },
   {
    "duration": 21,
    "start_time": "2023-03-16T10:54:12.057Z"
   },
   {
    "duration": 14,
    "start_time": "2023-03-16T10:54:12.080Z"
   },
   {
    "duration": 9,
    "start_time": "2023-03-16T10:54:12.095Z"
   },
   {
    "duration": 40,
    "start_time": "2023-03-16T10:54:12.106Z"
   },
   {
    "duration": 3,
    "start_time": "2023-03-16T10:54:12.148Z"
   },
   {
    "duration": 14,
    "start_time": "2023-03-16T10:54:12.153Z"
   },
   {
    "duration": 5,
    "start_time": "2023-03-16T10:54:12.168Z"
   },
   {
    "duration": 11,
    "start_time": "2023-03-16T10:54:12.174Z"
   },
   {
    "duration": 6,
    "start_time": "2023-03-16T10:54:12.186Z"
   },
   {
    "duration": 50,
    "start_time": "2023-03-16T10:54:12.193Z"
   },
   {
    "duration": 10,
    "start_time": "2023-03-16T10:54:12.245Z"
   },
   {
    "duration": 22,
    "start_time": "2023-03-16T10:54:12.256Z"
   },
   {
    "duration": 13,
    "start_time": "2023-03-16T10:54:12.280Z"
   },
   {
    "duration": 20,
    "start_time": "2023-03-16T10:54:12.295Z"
   },
   {
    "duration": 20,
    "start_time": "2023-03-16T10:54:12.316Z"
   },
   {
    "duration": 4,
    "start_time": "2023-03-16T10:54:12.337Z"
   },
   {
    "duration": 14,
    "start_time": "2023-03-16T10:54:12.342Z"
   },
   {
    "duration": 5,
    "start_time": "2023-03-16T10:54:12.358Z"
   },
   {
    "duration": 5,
    "start_time": "2023-03-16T10:54:12.364Z"
   },
   {
    "duration": 14,
    "start_time": "2023-03-16T10:54:12.371Z"
   },
   {
    "duration": 48,
    "start_time": "2023-03-16T10:54:12.386Z"
   },
   {
    "duration": 18,
    "start_time": "2023-03-16T10:54:12.436Z"
   },
   {
    "duration": 49,
    "start_time": "2023-03-16T10:54:12.456Z"
   },
   {
    "duration": 22,
    "start_time": "2023-03-16T10:54:12.521Z"
   },
   {
    "duration": 22,
    "start_time": "2023-03-16T10:54:12.544Z"
   },
   {
    "duration": 23,
    "start_time": "2023-03-16T10:54:30.040Z"
   },
   {
    "duration": 27,
    "start_time": "2023-03-16T10:54:43.721Z"
   },
   {
    "duration": 445,
    "start_time": "2023-03-16T10:54:49.747Z"
   },
   {
    "duration": 23,
    "start_time": "2023-03-16T10:54:50.194Z"
   },
   {
    "duration": 19,
    "start_time": "2023-03-16T10:54:50.218Z"
   },
   {
    "duration": 22,
    "start_time": "2023-03-16T10:54:50.238Z"
   },
   {
    "duration": 42,
    "start_time": "2023-03-16T10:54:50.262Z"
   },
   {
    "duration": 17,
    "start_time": "2023-03-16T10:54:50.306Z"
   },
   {
    "duration": 9,
    "start_time": "2023-03-16T10:54:50.325Z"
   },
   {
    "duration": 4,
    "start_time": "2023-03-16T10:54:50.336Z"
   },
   {
    "duration": 17,
    "start_time": "2023-03-16T10:54:50.341Z"
   },
   {
    "duration": 16,
    "start_time": "2023-03-16T10:54:50.359Z"
   },
   {
    "duration": 55,
    "start_time": "2023-03-16T10:54:50.377Z"
   },
   {
    "duration": 14,
    "start_time": "2023-03-16T10:54:50.434Z"
   },
   {
    "duration": 7,
    "start_time": "2023-03-16T10:54:50.449Z"
   },
   {
    "duration": 96,
    "start_time": "2023-03-16T10:54:50.458Z"
   },
   {
    "duration": 91,
    "start_time": "2023-03-16T10:54:50.555Z"
   },
   {
    "duration": 16,
    "start_time": "2023-03-16T10:54:50.648Z"
   },
   {
    "duration": 3,
    "start_time": "2023-03-16T10:54:50.666Z"
   },
   {
    "duration": 45,
    "start_time": "2023-03-16T10:54:50.671Z"
   },
   {
    "duration": 31,
    "start_time": "2023-03-16T10:54:50.718Z"
   },
   {
    "duration": 40,
    "start_time": "2023-03-16T10:54:50.751Z"
   },
   {
    "duration": 37,
    "start_time": "2023-03-16T10:54:50.792Z"
   },
   {
    "duration": 40,
    "start_time": "2023-03-16T10:54:50.831Z"
   },
   {
    "duration": 22,
    "start_time": "2023-03-16T10:54:50.873Z"
   },
   {
    "duration": 50,
    "start_time": "2023-03-16T10:54:50.897Z"
   },
   {
    "duration": 21,
    "start_time": "2023-03-16T10:54:50.949Z"
   },
   {
    "duration": 40,
    "start_time": "2023-03-16T10:54:50.971Z"
   },
   {
    "duration": 24,
    "start_time": "2023-03-16T10:55:02.142Z"
   },
   {
    "duration": 464,
    "start_time": "2023-03-16T10:55:07.538Z"
   },
   {
    "duration": 22,
    "start_time": "2023-03-16T10:55:08.003Z"
   },
   {
    "duration": 14,
    "start_time": "2023-03-16T10:55:08.027Z"
   },
   {
    "duration": 11,
    "start_time": "2023-03-16T10:55:08.042Z"
   },
   {
    "duration": 32,
    "start_time": "2023-03-16T10:55:08.055Z"
   },
   {
    "duration": 4,
    "start_time": "2023-03-16T10:55:08.088Z"
   },
   {
    "duration": 28,
    "start_time": "2023-03-16T10:55:08.093Z"
   },
   {
    "duration": 8,
    "start_time": "2023-03-16T10:55:08.123Z"
   },
   {
    "duration": 10,
    "start_time": "2023-03-16T10:55:08.132Z"
   },
   {
    "duration": 6,
    "start_time": "2023-03-16T10:55:08.143Z"
   },
   {
    "duration": 37,
    "start_time": "2023-03-16T10:55:08.150Z"
   },
   {
    "duration": 8,
    "start_time": "2023-03-16T10:55:08.189Z"
   },
   {
    "duration": 22,
    "start_time": "2023-03-16T10:55:08.199Z"
   },
   {
    "duration": 21,
    "start_time": "2023-03-16T10:55:08.225Z"
   },
   {
    "duration": 28,
    "start_time": "2023-03-16T10:55:08.248Z"
   },
   {
    "duration": 16,
    "start_time": "2023-03-16T10:55:08.278Z"
   },
   {
    "duration": 4,
    "start_time": "2023-03-16T10:55:08.295Z"
   },
   {
    "duration": 24,
    "start_time": "2023-03-16T10:55:08.301Z"
   },
   {
    "duration": 6,
    "start_time": "2023-03-16T10:55:08.326Z"
   },
   {
    "duration": 30,
    "start_time": "2023-03-16T10:55:08.333Z"
   },
   {
    "duration": 15,
    "start_time": "2023-03-16T10:55:08.365Z"
   },
   {
    "duration": 32,
    "start_time": "2023-03-16T10:55:08.382Z"
   },
   {
    "duration": 23,
    "start_time": "2023-03-16T10:55:08.416Z"
   },
   {
    "duration": 49,
    "start_time": "2023-03-16T10:55:08.441Z"
   },
   {
    "duration": 37,
    "start_time": "2023-03-16T10:55:08.492Z"
   },
   {
    "duration": 22,
    "start_time": "2023-03-16T10:55:08.531Z"
   },
   {
    "duration": 437,
    "start_time": "2023-03-16T10:55:24.247Z"
   },
   {
    "duration": 22,
    "start_time": "2023-03-16T10:55:24.686Z"
   },
   {
    "duration": 15,
    "start_time": "2023-03-16T10:55:24.709Z"
   },
   {
    "duration": 22,
    "start_time": "2023-03-16T10:55:24.725Z"
   },
   {
    "duration": 41,
    "start_time": "2023-03-16T10:55:24.750Z"
   },
   {
    "duration": 3,
    "start_time": "2023-03-16T10:55:24.793Z"
   },
   {
    "duration": 14,
    "start_time": "2023-03-16T10:55:24.797Z"
   },
   {
    "duration": 4,
    "start_time": "2023-03-16T10:55:24.812Z"
   },
   {
    "duration": 25,
    "start_time": "2023-03-16T10:55:24.820Z"
   },
   {
    "duration": 6,
    "start_time": "2023-03-16T10:55:24.846Z"
   },
   {
    "duration": 37,
    "start_time": "2023-03-16T10:55:24.853Z"
   },
   {
    "duration": 8,
    "start_time": "2023-03-16T10:55:24.892Z"
   },
   {
    "duration": 3,
    "start_time": "2023-03-16T10:55:24.902Z"
   },
   {
    "duration": 10,
    "start_time": "2023-03-16T10:55:24.908Z"
   },
   {
    "duration": 41,
    "start_time": "2023-03-16T10:55:24.919Z"
   },
   {
    "duration": 17,
    "start_time": "2023-03-16T10:55:24.962Z"
   },
   {
    "duration": 3,
    "start_time": "2023-03-16T10:55:24.981Z"
   },
   {
    "duration": 10,
    "start_time": "2023-03-16T10:55:24.986Z"
   },
   {
    "duration": 37,
    "start_time": "2023-03-16T10:55:24.998Z"
   },
   {
    "duration": 6,
    "start_time": "2023-03-16T10:55:25.036Z"
   },
   {
    "duration": 18,
    "start_time": "2023-03-16T10:55:25.043Z"
   },
   {
    "duration": 25,
    "start_time": "2023-03-16T10:55:25.062Z"
   },
   {
    "duration": 21,
    "start_time": "2023-03-16T10:55:25.088Z"
   },
   {
    "duration": 59,
    "start_time": "2023-03-16T10:55:25.111Z"
   },
   {
    "duration": 23,
    "start_time": "2023-03-16T10:55:25.172Z"
   },
   {
    "duration": 42,
    "start_time": "2023-03-16T10:55:25.197Z"
   },
   {
    "duration": 1350,
    "start_time": "2023-03-16T10:55:52.337Z"
   },
   {
    "duration": 470,
    "start_time": "2023-03-16T10:56:02.318Z"
   },
   {
    "duration": 22,
    "start_time": "2023-03-16T10:56:02.790Z"
   },
   {
    "duration": 19,
    "start_time": "2023-03-16T10:56:02.814Z"
   },
   {
    "duration": 26,
    "start_time": "2023-03-16T10:56:02.835Z"
   },
   {
    "duration": 65,
    "start_time": "2023-03-16T10:56:02.862Z"
   },
   {
    "duration": 2,
    "start_time": "2023-03-16T10:56:02.929Z"
   },
   {
    "duration": 20,
    "start_time": "2023-03-16T10:56:02.933Z"
   },
   {
    "duration": 10,
    "start_time": "2023-03-16T10:56:02.954Z"
   },
   {
    "duration": 54,
    "start_time": "2023-03-16T10:56:02.966Z"
   },
   {
    "duration": 25,
    "start_time": "2023-03-16T10:56:03.023Z"
   },
   {
    "duration": 37,
    "start_time": "2023-03-16T10:56:03.049Z"
   },
   {
    "duration": 9,
    "start_time": "2023-03-16T10:56:03.087Z"
   },
   {
    "duration": 18,
    "start_time": "2023-03-16T10:56:03.097Z"
   },
   {
    "duration": 29,
    "start_time": "2023-03-16T10:56:03.117Z"
   },
   {
    "duration": 34,
    "start_time": "2023-03-16T10:56:03.148Z"
   },
   {
    "duration": 17,
    "start_time": "2023-03-16T10:56:03.184Z"
   },
   {
    "duration": 4,
    "start_time": "2023-03-16T10:56:03.202Z"
   },
   {
    "duration": 25,
    "start_time": "2023-03-16T10:56:03.207Z"
   },
   {
    "duration": 13,
    "start_time": "2023-03-16T10:56:03.234Z"
   },
   {
    "duration": 12,
    "start_time": "2023-03-16T10:56:03.248Z"
   },
   {
    "duration": 22,
    "start_time": "2023-03-16T10:56:03.261Z"
   },
   {
    "duration": 41,
    "start_time": "2023-03-16T10:56:03.285Z"
   },
   {
    "duration": 1277,
    "start_time": "2023-03-16T10:56:03.327Z"
   },
   {
    "duration": 0,
    "start_time": "2023-03-16T10:56:04.605Z"
   },
   {
    "duration": 0,
    "start_time": "2023-03-16T10:56:04.606Z"
   },
   {
    "duration": 0,
    "start_time": "2023-03-16T10:56:04.607Z"
   },
   {
    "duration": 1263,
    "start_time": "2023-03-16T10:59:33.785Z"
   },
   {
    "duration": 452,
    "start_time": "2023-03-16T10:59:39.738Z"
   },
   {
    "duration": 22,
    "start_time": "2023-03-16T10:59:40.192Z"
   },
   {
    "duration": 20,
    "start_time": "2023-03-16T10:59:40.216Z"
   },
   {
    "duration": 11,
    "start_time": "2023-03-16T10:59:40.237Z"
   },
   {
    "duration": 41,
    "start_time": "2023-03-16T10:59:40.251Z"
   },
   {
    "duration": 4,
    "start_time": "2023-03-16T10:59:40.294Z"
   },
   {
    "duration": 30,
    "start_time": "2023-03-16T10:59:40.300Z"
   },
   {
    "duration": 6,
    "start_time": "2023-03-16T10:59:40.332Z"
   },
   {
    "duration": 25,
    "start_time": "2023-03-16T10:59:40.340Z"
   },
   {
    "duration": 5,
    "start_time": "2023-03-16T10:59:40.366Z"
   },
   {
    "duration": 31,
    "start_time": "2023-03-16T10:59:40.373Z"
   },
   {
    "duration": 10,
    "start_time": "2023-03-16T10:59:40.422Z"
   },
   {
    "duration": 3,
    "start_time": "2023-03-16T10:59:40.434Z"
   },
   {
    "duration": 11,
    "start_time": "2023-03-16T10:59:40.439Z"
   },
   {
    "duration": 19,
    "start_time": "2023-03-16T10:59:40.451Z"
   },
   {
    "duration": 16,
    "start_time": "2023-03-16T10:59:40.471Z"
   },
   {
    "duration": 33,
    "start_time": "2023-03-16T10:59:40.489Z"
   },
   {
    "duration": 18,
    "start_time": "2023-03-16T10:59:40.523Z"
   },
   {
    "duration": 6,
    "start_time": "2023-03-16T10:59:40.543Z"
   },
   {
    "duration": 3,
    "start_time": "2023-03-16T10:59:40.551Z"
   },
   {
    "duration": 10,
    "start_time": "2023-03-16T10:59:40.556Z"
   },
   {
    "duration": 26,
    "start_time": "2023-03-16T10:59:40.568Z"
   },
   {
    "duration": 1265,
    "start_time": "2023-03-16T10:59:40.595Z"
   },
   {
    "duration": 0,
    "start_time": "2023-03-16T10:59:41.861Z"
   },
   {
    "duration": 0,
    "start_time": "2023-03-16T10:59:41.863Z"
   },
   {
    "duration": 0,
    "start_time": "2023-03-16T10:59:41.864Z"
   },
   {
    "duration": 22,
    "start_time": "2023-03-16T10:59:53.377Z"
   },
   {
    "duration": 77,
    "start_time": "2023-03-16T11:00:20.061Z"
   },
   {
    "duration": 16,
    "start_time": "2023-03-16T11:00:23.577Z"
   },
   {
    "duration": 26,
    "start_time": "2023-03-16T11:00:29.481Z"
   },
   {
    "duration": 26,
    "start_time": "2023-03-16T11:00:40.410Z"
   },
   {
    "duration": 23,
    "start_time": "2023-03-16T11:00:44.916Z"
   },
   {
    "duration": 472,
    "start_time": "2023-03-16T11:14:27.440Z"
   },
   {
    "duration": 22,
    "start_time": "2023-03-16T11:14:27.914Z"
   },
   {
    "duration": 14,
    "start_time": "2023-03-16T11:14:27.938Z"
   },
   {
    "duration": 9,
    "start_time": "2023-03-16T11:14:27.953Z"
   },
   {
    "duration": 37,
    "start_time": "2023-03-16T11:14:27.964Z"
   },
   {
    "duration": 19,
    "start_time": "2023-03-16T11:14:28.003Z"
   },
   {
    "duration": 15,
    "start_time": "2023-03-16T11:14:28.023Z"
   },
   {
    "duration": 4,
    "start_time": "2023-03-16T11:14:28.040Z"
   },
   {
    "duration": 8,
    "start_time": "2023-03-16T11:14:28.046Z"
   },
   {
    "duration": 11,
    "start_time": "2023-03-16T11:14:28.056Z"
   },
   {
    "duration": 146,
    "start_time": "2023-03-16T11:14:28.068Z"
   },
   {
    "duration": 81,
    "start_time": "2023-03-16T11:14:28.216Z"
   },
   {
    "duration": 6,
    "start_time": "2023-03-16T11:14:28.299Z"
   },
   {
    "duration": 18,
    "start_time": "2023-03-16T11:14:28.308Z"
   },
   {
    "duration": 20,
    "start_time": "2023-03-16T11:14:28.327Z"
   },
   {
    "duration": 17,
    "start_time": "2023-03-16T11:14:28.348Z"
   },
   {
    "duration": 3,
    "start_time": "2023-03-16T11:14:28.367Z"
   },
   {
    "duration": 21,
    "start_time": "2023-03-16T11:14:28.371Z"
   },
   {
    "duration": 17,
    "start_time": "2023-03-16T11:14:28.394Z"
   },
   {
    "duration": 9,
    "start_time": "2023-03-16T11:14:28.412Z"
   },
   {
    "duration": 23,
    "start_time": "2023-03-16T11:14:28.423Z"
   },
   {
    "duration": 23,
    "start_time": "2023-03-16T11:14:28.448Z"
   },
   {
    "duration": 20,
    "start_time": "2023-03-16T11:14:28.473Z"
   },
   {
    "duration": 67,
    "start_time": "2023-03-16T11:14:28.495Z"
   },
   {
    "duration": 25,
    "start_time": "2023-03-16T11:14:28.564Z"
   },
   {
    "duration": 48,
    "start_time": "2023-03-16T11:14:28.591Z"
   },
   {
    "duration": 22,
    "start_time": "2023-03-16T11:14:37.774Z"
   }
  ],
  "colab": {
   "provenance": []
  },
  "kernelspec": {
   "display_name": "Python 3 (ipykernel)",
   "language": "python",
   "name": "python3"
  },
  "language_info": {
   "codemirror_mode": {
    "name": "ipython",
    "version": 3
   },
   "file_extension": ".py",
   "mimetype": "text/x-python",
   "name": "python",
   "nbconvert_exporter": "python",
   "pygments_lexer": "ipython3",
   "version": "3.9.16"
  },
  "toc": {
   "base_numbering": 1,
   "nav_menu": {},
   "number_sections": true,
   "sideBar": true,
   "skip_h1_title": true,
   "title_cell": "Table of Contents",
   "title_sidebar": "Contents",
   "toc_cell": false,
   "toc_position": {},
   "toc_section_display": true,
   "toc_window_display": false
  }
 },
 "nbformat": 4,
 "nbformat_minor": 5
}
